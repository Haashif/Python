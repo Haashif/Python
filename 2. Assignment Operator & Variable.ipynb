{
 "cells": [
  {
   "cell_type": "code",
   "execution_count": 1,
   "id": "3e1641fb-3a4c-4e5a-a534-cd54fce5e3f1",
   "metadata": {},
   "outputs": [],
   "source": [
    "num1 = 10"
   ]
  },
  {
   "cell_type": "code",
   "execution_count": 2,
   "id": "46ef0946-c508-4306-9a78-6d6a0a26ff69",
   "metadata": {},
   "outputs": [
    {
     "name": "stdout",
     "output_type": "stream",
     "text": [
      "add\n",
      "30\n"
     ]
    }
   ],
   "source": [
    "num1 = 10\n",
    "num2 = 20\n",
    "add = num1 + num2\n",
    "print(\"add\")\n",
    "print(add)"
   ]
  },
  {
   "cell_type": "code",
   "execution_count": 5,
   "id": "ffb75589-61a8-4a5a-b383-457c1abc6499",
   "metadata": {},
   "outputs": [
    {
     "name": "stdout",
     "output_type": "stream",
     "text": [
      "marstech\n"
     ]
    }
   ],
   "source": [
    "firstName = 'marstech'\n",
    "print(firstName)"
   ]
  },
  {
   "cell_type": "code",
   "execution_count": 4,
   "id": "bcddc185-cd1a-4c28-a776-7100391dc4c7",
   "metadata": {},
   "outputs": [
    {
     "name": "stdout",
     "output_type": "stream",
     "text": [
      "1020\n"
     ]
    }
   ],
   "source": [
    "num1 = '10'\n",
    "num2 = '20'\n",
    "add = num1 + num2\n",
    "print(add)"
   ]
  },
  {
   "cell_type": "code",
   "execution_count": 8,
   "id": "8d68ca1f-061d-45a4-b477-3ac4de9862af",
   "metadata": {},
   "outputs": [
    {
     "name": "stdout",
     "output_type": "stream",
     "text": [
      "the addition of two numbers\n",
      "the number 1 is:  10\n",
      "the number 2 is:  20\n",
      "the answer is:  30\n"
     ]
    }
   ],
   "source": [
    "print(\"the addition of two numbers\")\n",
    "num1 = 10\n",
    "num2 = 20\n",
    "add = num1+num2\n",
    "print(\"the number 1 is: \",num1)\n",
    "print(\"the number 2 is: \",num2)\n",
    "print(\"the answer is: \",add)"
   ]
  },
  {
   "cell_type": "code",
   "execution_count": 10,
   "id": "7e8de6e7-4892-46bf-8ea7-c4363cf57788",
   "metadata": {},
   "outputs": [
    {
     "name": "stdin",
     "output_type": "stream",
     "text": [
      "enter the number 1:  2\n",
      "enter the number 2:  3\n"
     ]
    },
    {
     "name": "stdout",
     "output_type": "stream",
     "text": [
      "total:  5\n"
     ]
    }
   ],
   "source": [
    "num1 = int (input(\"enter the number 1: \"))\n",
    "num2 = int (input(\"enter the number 2: \"))\n",
    "print(\"total: \",num1+num2)"
   ]
  },
  {
   "cell_type": "code",
   "execution_count": null,
   "id": "6e81725c-70ea-42a2-ad39-edcd7880fb38",
   "metadata": {},
   "outputs": [],
   "source": []
  }
 ],
 "metadata": {
  "kernelspec": {
   "display_name": "Python 3 (ipykernel)",
   "language": "python",
   "name": "python3"
  },
  "language_info": {
   "codemirror_mode": {
    "name": "ipython",
    "version": 3
   },
   "file_extension": ".py",
   "mimetype": "text/x-python",
   "name": "python",
   "nbconvert_exporter": "python",
   "pygments_lexer": "ipython3",
   "version": "3.12.7"
  }
 },
 "nbformat": 4,
 "nbformat_minor": 5
}
