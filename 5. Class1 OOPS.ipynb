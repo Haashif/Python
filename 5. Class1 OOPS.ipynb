{
 "cells": [
  {
   "cell_type": "code",
   "execution_count": 1,
   "id": "b2bb76fe-b050-4987-a3be-094a4d4d801d",
   "metadata": {},
   "outputs": [],
   "source": [
    "class multiFunction():\n",
    "    def BMI():\n",
    "        bmi = int(input(\"Enter the BMI Index: \"))\n",
    "        if(bmi < 18):\n",
    "            print(\"Under Weight\")\n",
    "        elif(bmi < 25):\n",
    "            print(\"Normal\")\n",
    "        elif(bmi < 34):\n",
    "            print(\"Weight\")\n",
    "        else:\n",
    "            print(\"Over Weight\")\n",
    "\n",
    "    def odd():\n",
    "        num = int (input(\"Enter a number: \"))\n",
    "        if (num % 2 != 0):\n",
    "            print(\"num is odd\")\n",
    "        else:\n",
    "            print(\"num is even\")"
   ]
  },
  {
   "cell_type": "code",
   "execution_count": 4,
   "id": "52d7317f-d20f-4f25-b0fe-d6b2f91f75df",
   "metadata": {},
   "outputs": [
    {
     "name": "stdin",
     "output_type": "stream",
     "text": [
      "Enter the BMI Index:  54\n"
     ]
    },
    {
     "name": "stdout",
     "output_type": "stream",
     "text": [
      "Over Weight\n"
     ]
    }
   ],
   "source": [
    "multiFunction.BMI()"
   ]
  },
  {
   "cell_type": "code",
   "execution_count": null,
   "id": "d07c97dd-d930-490a-943c-b206a3fe5aec",
   "metadata": {},
   "outputs": [],
   "source": []
  }
 ],
 "metadata": {
  "kernelspec": {
   "display_name": "Python 3 (ipykernel)",
   "language": "python",
   "name": "python3"
  },
  "language_info": {
   "codemirror_mode": {
    "name": "ipython",
    "version": 3
   },
   "file_extension": ".py",
   "mimetype": "text/x-python",
   "name": "python",
   "nbconvert_exporter": "python",
   "pygments_lexer": "ipython3",
   "version": "3.12.7"
  }
 },
 "nbformat": 4,
 "nbformat_minor": 5
}
