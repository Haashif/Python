{
 "cells": [
  {
   "cell_type": "code",
   "execution_count": 3,
   "id": "049e002d-7302-4ddc-b441-98c298f7f75e",
   "metadata": {},
   "outputs": [],
   "source": [
    "class SubfieldsinAI():\n",
    "    def Subfields():\n",
    "        print(\"Sub-fields in AI are:\")\n",
    "        print(\"Machine Leqrning\")\n",
    "        print(\"Neural Networks\")\n",
    "        print(\"Vision\")\n",
    "        print(\"Robotics\")\n",
    "        print(\"Speech Processing\")\n",
    "        print(\"Natural Language Processing\")"
   ]
  },
  {
   "cell_type": "code",
   "execution_count": 4,
   "id": "e4b404eb-17c4-4cb7-ad2c-32b3bad25224",
   "metadata": {},
   "outputs": [
    {
     "name": "stdout",
     "output_type": "stream",
     "text": [
      "Sub-fields in AI are:\n",
      "Machine Leqrning\n",
      "Neural Networks\n",
      "Vision\n",
      "Robotics\n",
      "Speech Processing\n",
      "Natural Language Processing\n"
     ]
    }
   ],
   "source": [
    "SubfieldsinAI.Subfields()"
   ]
  },
  {
   "cell_type": "code",
   "execution_count": 15,
   "id": "1a4711b6-5002-45dd-9f3d-e6dfdad2a5d1",
   "metadata": {},
   "outputs": [],
   "source": [
    "class OddEven():\n",
    "    def OddEven():\n",
    "        num = int(input(\"Enter a number: \"))\n",
    "        if(num%2 != 0):\n",
    "            print(num,\"is Odd number\")\n",
    "        else:\n",
    "            print(num,\"is Even number\")"
   ]
  },
  {
   "cell_type": "code",
   "execution_count": 16,
   "id": "1a7f2437-98cf-4f32-985d-382185d54608",
   "metadata": {},
   "outputs": [
    {
     "name": "stdin",
     "output_type": "stream",
     "text": [
      "Enter a number:  52452\n"
     ]
    },
    {
     "name": "stdout",
     "output_type": "stream",
     "text": [
      "52452 is Even number\n"
     ]
    }
   ],
   "source": [
    "OddEven.OddEven()"
   ]
  },
  {
   "cell_type": "code",
   "execution_count": 25,
   "id": "fa94fb7b-6493-42ab-a8f3-20b25518db8e",
   "metadata": {},
   "outputs": [],
   "source": [
    "class Elegibility():\n",
    "    def Eligible():\n",
    "        gender = input(\"Your Gender:\")\n",
    "        if(gender == 'Male'):\n",
    "            age = int (input(\"Your Age:\"))\n",
    "            if(age < 21):\n",
    "                print (\"NOT ELEGIBLE\")\n",
    "            else:\n",
    "                print (\"ELEGIBLE\")\n",
    "        elif(gender == 'Female'):\n",
    "            age = int (input(\"Your Age:\"))\n",
    "            if(age < 18):\n",
    "                print (\"NOT ELEGIBLE\")\n",
    "            else:\n",
    "                print (\"ELEGIBLE\")\n",
    "        else:\n",
    "            print(\"Invalid Input\")"
   ]
  },
  {
   "cell_type": "code",
   "execution_count": 26,
   "id": "6f67c993-16ed-47a5-954f-edc6f37c8d01",
   "metadata": {},
   "outputs": [
    {
     "name": "stdin",
     "output_type": "stream",
     "text": [
      "Your Gender: Male\n",
      "Your Age: 20\n"
     ]
    },
    {
     "name": "stdout",
     "output_type": "stream",
     "text": [
      "NOT ELEGIBLE\n"
     ]
    }
   ],
   "source": [
    "Elegibility.Eligible()"
   ]
  },
  {
   "cell_type": "code",
   "execution_count": 5,
   "id": "bc56d49d-8ee3-414e-8a05-bc99fd27b844",
   "metadata": {},
   "outputs": [],
   "source": [
    "class FindPercent():\n",
    "    def percentage():\n",
    "        Subject1 = float(input(\"Subject1=\"))\n",
    "        Subject2 = float(input(\"Subject2=\"))\n",
    "        Subject3 = float(input(\"Subject3=\"))\n",
    "        Subject4 = float(input(\"Subject4=\"))\n",
    "        Subject5 = float(input(\"Subject5=\"))\n",
    "        total = Subject1+Subject2+Subject3+Subject4+Subject5\n",
    "        percentage = total/5\n",
    "        print(\"Total:\",total)\n",
    "        print(\"Percentage:\",percentage)"
   ]
  },
  {
   "cell_type": "code",
   "execution_count": 6,
   "id": "5dd9873c-4d49-4ecc-8f57-8e94db9f7eda",
   "metadata": {},
   "outputs": [
    {
     "name": "stdin",
     "output_type": "stream",
     "text": [
      "Subject1= 98\n",
      "Subject2= 87\n",
      "Subject3= 95\n",
      "Subject4= 95\n",
      "Subject5= 93\n"
     ]
    },
    {
     "name": "stdout",
     "output_type": "stream",
     "text": [
      "Total: 468.0\n",
      "Percentage: 93.6\n"
     ]
    }
   ],
   "source": [
    "FindPercent.percentage()"
   ]
  },
  {
   "cell_type": "code",
   "execution_count": 14,
   "id": "bf05752e-5467-42fb-963e-0f1fc6366e07",
   "metadata": {},
   "outputs": [],
   "source": [
    "class triangle():\n",
    "    def triangle():\n",
    "        height = int (input(\"Height:\"))\n",
    "        breadth = int (input(\"Breadth:\"))\n",
    "        print(\"Area fomula:(Height*Breadth)/2\")\n",
    "        print(\"Area of Triangle:\",(height*breadth)/2)\n",
    "        height1= int(input(\"Height1:\"))\n",
    "        height2= int(input(\"Height2:\"))\n",
    "        breadth= int(input(\"Breadth:\"))\n",
    "        print(\"Perimeter formula:Height1+Height2+Breadth\")\n",
    "        print(\"Perimater of Triangle:\",(height1+height2+breadth))"
   ]
  },
  {
   "cell_type": "code",
   "execution_count": 15,
   "id": "0bbf001c-816a-4858-bdfe-2adf523a33f7",
   "metadata": {},
   "outputs": [
    {
     "name": "stdin",
     "output_type": "stream",
     "text": [
      "Height: 32\n",
      "Breadth: 34\n"
     ]
    },
    {
     "name": "stdout",
     "output_type": "stream",
     "text": [
      "Area fomula:(Height*Breadth)/2\n",
      "Area of Triangle: 544.0\n"
     ]
    },
    {
     "name": "stdin",
     "output_type": "stream",
     "text": [
      "Height1: 2\n",
      "Height2: 4\n",
      "Breadth: 4\n"
     ]
    },
    {
     "name": "stdout",
     "output_type": "stream",
     "text": [
      "Perimeter formula:Height1+Height2+Breadth\n",
      "Perimater of Triangle: 10\n"
     ]
    }
   ],
   "source": [
    "triangle.triangle()"
   ]
  },
  {
   "cell_type": "code",
   "execution_count": null,
   "id": "a1f38f0a-0da9-4ec3-9a18-b48e4a8cd9fa",
   "metadata": {},
   "outputs": [],
   "source": []
  }
 ],
 "metadata": {
  "kernelspec": {
   "display_name": "Python 3 (ipykernel)",
   "language": "python",
   "name": "python3"
  },
  "language_info": {
   "codemirror_mode": {
    "name": "ipython",
    "version": 3
   },
   "file_extension": ".py",
   "mimetype": "text/x-python",
   "name": "python",
   "nbconvert_exporter": "python",
   "pygments_lexer": "ipython3",
   "version": "3.12.7"
  }
 },
 "nbformat": 4,
 "nbformat_minor": 5
}
