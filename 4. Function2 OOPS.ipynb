{
 "cells": [
  {
   "cell_type": "code",
   "execution_count": 10,
   "id": "36c60d25-4731-472a-9e27-cb0ca619671b",
   "metadata": {},
   "outputs": [
    {
     "name": "stdin",
     "output_type": "stream",
     "text": [
      "Enter your age:  23\n"
     ]
    }
   ],
   "source": [
    "age = int (input(\"Enter your age: \"))"
   ]
  },
  {
   "cell_type": "code",
   "execution_count": 15,
   "id": "78fa8dcd-fdf8-46bf-ae45-efbeca080df8",
   "metadata": {},
   "outputs": [],
   "source": [
    "def AgeCate():\n",
    "    if(age<18):\n",
    "        print(\"Child\")\n",
    "        cate = \"Childd\"\n",
    "    elif(age<35):\n",
    "        print(\"Adult\")\n",
    "        cate = \"Adultt\"\n",
    "    elif(age<45):\n",
    "        print(\"Citizen\")\n",
    "        cate = \"Citizenn\"\n",
    "    else:\n",
    "        print(\"Senior Citizen\")\n",
    "        cate = \"Seniorr Citizenn\"\n",
    "    return cate"
   ]
  },
  {
   "cell_type": "code",
   "execution_count": 24,
   "id": "3383b4fb-d1f4-4465-ba33-efc7661a957d",
   "metadata": {
    "scrolled": true
   },
   "outputs": [
    {
     "name": "stdout",
     "output_type": "stream",
     "text": [
      "Adult\n"
     ]
    },
    {
     "data": {
      "text/plain": [
       "'Adultt'"
      ]
     },
     "execution_count": 24,
     "metadata": {},
     "output_type": "execute_result"
    }
   ],
   "source": [
    "AgeCate()"
   ]
  },
  {
   "cell_type": "code",
   "execution_count": 25,
   "id": "16840076-e4dd-49bf-a54d-ee75ea7a119b",
   "metadata": {},
   "outputs": [
    {
     "name": "stdout",
     "output_type": "stream",
     "text": [
      "Adult\n"
     ]
    }
   ],
   "source": [
    "agecate = AgeCate()"
   ]
  },
  {
   "cell_type": "code",
   "execution_count": 26,
   "id": "6803126e-3904-486e-a4f8-5c75b1793286",
   "metadata": {},
   "outputs": [
    {
     "data": {
      "text/plain": [
       "'Adultt'"
      ]
     },
     "execution_count": 26,
     "metadata": {},
     "output_type": "execute_result"
    }
   ],
   "source": [
    "agecate"
   ]
  },
  {
   "cell_type": "code",
   "execution_count": 27,
   "id": "3c5b6829-c893-4d50-b553-0c17619c03ed",
   "metadata": {},
   "outputs": [
    {
     "name": "stdout",
     "output_type": "stream",
     "text": [
      "Adultt\n"
     ]
    }
   ],
   "source": [
    "print(agecate)"
   ]
  },
  {
   "cell_type": "code",
   "execution_count": null,
   "id": "fad8a467-8916-43bf-b2fe-d5058d5fef13",
   "metadata": {},
   "outputs": [],
   "source": []
  }
 ],
 "metadata": {
  "kernelspec": {
   "display_name": "Python 3 (ipykernel)",
   "language": "python",
   "name": "python3"
  },
  "language_info": {
   "codemirror_mode": {
    "name": "ipython",
    "version": 3
   },
   "file_extension": ".py",
   "mimetype": "text/x-python",
   "name": "python",
   "nbconvert_exporter": "python",
   "pygments_lexer": "ipython3",
   "version": "3.12.7"
  }
 },
 "nbformat": 4,
 "nbformat_minor": 5
}
