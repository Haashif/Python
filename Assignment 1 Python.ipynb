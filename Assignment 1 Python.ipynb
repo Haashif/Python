{
 "cells": [
  {
   "cell_type": "code",
   "execution_count": 1,
   "id": "da70cded-869a-4bd4-b6cb-07890eccf887",
   "metadata": {},
   "outputs": [
    {
     "name": "stdout",
     "output_type": "stream",
     "text": [
      "Welcome to Assignment-1\n"
     ]
    }
   ],
   "source": [
    "print(\"Welcome to Assignment-1\")"
   ]
  },
  {
   "cell_type": "code",
   "execution_count": 2,
   "id": "9c48b3b7-aaa1-47b4-963d-c4233904b101",
   "metadata": {},
   "outputs": [
    {
     "name": "stdout",
     "output_type": "stream",
     "text": [
      "num1 =  10\n",
      "num2 =  30\n",
      "add =  40\n"
     ]
    }
   ],
   "source": [
    "num1 = 10\n",
    "num2 = 30\n",
    "add = num1 + num2\n",
    "print(\"num1 = \", num1)\n",
    "print(\"num2 = \", num2)\n",
    "print(\"add = \", add)"
   ]
  },
  {
   "cell_type": "code",
   "execution_count": 1,
   "id": "d9278cd1-eff0-4e26-bc28-792dcecde7d1",
   "metadata": {},
   "outputs": [
    {
     "name": "stdout",
     "output_type": "stream",
     "text": [
      "Body Mass Index\n"
     ]
    },
    {
     "name": "stdin",
     "output_type": "stream",
     "text": [
      "Enter the BMI Index:  34\n"
     ]
    },
    {
     "name": "stdout",
     "output_type": "stream",
     "text": [
      "Very Overweight\n"
     ]
    }
   ],
   "source": [
    "print(\"Body Mass Index\")\n",
    "bmi = int(input(\"Enter the BMI Index: \"))\n",
    "if(bmi < 18):\n",
    "    print(\"Under Weight\")\n",
    "elif(bmi < 25):\n",
    "    print(\"Normal\")\n",
    "elif(bmi < 34):\n",
    "    print(\"Over Weight\")\n",
    "else:\n",
    "    print(\"Very Overweight\")"
   ]
  },
  {
   "cell_type": "code",
   "execution_count": null,
   "id": "837371ac-41e8-40f0-b1df-0a0b65f69f60",
   "metadata": {},
   "outputs": [],
   "source": []
  }
 ],
 "metadata": {
  "kernelspec": {
   "display_name": "Python 3 (ipykernel)",
   "language": "python",
   "name": "python3"
  },
  "language_info": {
   "codemirror_mode": {
    "name": "ipython",
    "version": 3
   },
   "file_extension": ".py",
   "mimetype": "text/x-python",
   "name": "python",
   "nbconvert_exporter": "python",
   "pygments_lexer": "ipython3",
   "version": "3.12.7"
  }
 },
 "nbformat": 4,
 "nbformat_minor": 5
}
