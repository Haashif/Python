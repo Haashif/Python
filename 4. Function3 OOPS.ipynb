{
 "cells": [
  {
   "cell_type": "code",
   "execution_count": 1,
   "id": "96aa8040-8829-4173-ab89-2fda8249b6ec",
   "metadata": {},
   "outputs": [],
   "source": [
    "def AgeCate():\n",
    "    if(age<18):\n",
    "        print(\"Child\")\n",
    "        cate = \"Childd\"\n",
    "    elif(age<35):\n",
    "        print(\"Adult\")\n",
    "        cate = \"Adultt\"\n",
    "    elif(age<45):\n",
    "        print(\"Citizen\")\n",
    "        cate = \"Citizenn\"\n",
    "    else:\n",
    "        print(\"Senior Citizen\")\n",
    "        cate = \"Seniorr Citizenn\"\n",
    "    return cate"
   ]
  },
  {
   "cell_type": "code",
   "execution_count": 2,
   "id": "f74394c4-d5d1-4be6-b1ed-26d87e489b47",
   "metadata": {},
   "outputs": [
    {
     "name": "stdin",
     "output_type": "stream",
     "text": [
      "Enter your age:  33\n"
     ]
    },
    {
     "name": "stdout",
     "output_type": "stream",
     "text": [
      "Adult\n"
     ]
    }
   ],
   "source": [
    "age = int (input(\"Enter your age: \"))\n",
    "agecate = AgeCate() #cate"
   ]
  },
  {
   "cell_type": "code",
   "execution_count": 3,
   "id": "4bb382fb-d1af-48fc-aaa2-ef45f496f773",
   "metadata": {},
   "outputs": [
    {
     "data": {
      "text/plain": [
       "'Adultt'"
      ]
     },
     "execution_count": 3,
     "metadata": {},
     "output_type": "execute_result"
    }
   ],
   "source": [
    "agecate"
   ]
  },
  {
   "cell_type": "code",
   "execution_count": 4,
   "id": "d207fc23-4509-4075-a4b3-13283df71bdf",
   "metadata": {},
   "outputs": [
    {
     "name": "stdout",
     "output_type": "stream",
     "text": [
      "Adultt\n"
     ]
    }
   ],
   "source": [
    "print(agecate)"
   ]
  },
  {
   "cell_type": "code",
   "execution_count": null,
   "id": "a047eff9-5250-4993-b667-376abac02a58",
   "metadata": {},
   "outputs": [],
   "source": []
  }
 ],
 "metadata": {
  "kernelspec": {
   "display_name": "Python 3 (ipykernel)",
   "language": "python",
   "name": "python3"
  },
  "language_info": {
   "codemirror_mode": {
    "name": "ipython",
    "version": 3
   },
   "file_extension": ".py",
   "mimetype": "text/x-python",
   "name": "python",
   "nbconvert_exporter": "python",
   "pygments_lexer": "ipython3",
   "version": "3.12.7"
  }
 },
 "nbformat": 4,
 "nbformat_minor": 5
}
