{
 "cells": [
  {
   "cell_type": "code",
   "execution_count": 1,
   "id": "06b0115f-a402-49f9-9f07-109e56377070",
   "metadata": {},
   "outputs": [],
   "source": [
    "def AgeCate():\n",
    "    if(age<18):\n",
    "        print(\"Child\")\n",
    "        cate = \"Childd\"\n",
    "        \n",
    "    elif(age<35):\n",
    "        print(\"Adult\")\n",
    "        cate = \"Adultt\"\n",
    "        \n",
    "    elif(age<45):\n",
    "        print(\"Citizen\")\n",
    "        cate = \"Citizenn\"\n",
    "        \n",
    "    else:\n",
    "        print(\"Senior Citizen\")\n",
    "        cate = \"Seniorr Citizenn\""
   ]
  },
  {
   "cell_type": "code",
   "execution_count": 2,
   "id": "fc29c55a-b674-4dea-879f-f8a78119a49c",
   "metadata": {},
   "outputs": [
    {
     "name": "stdin",
     "output_type": "stream",
     "text": [
      "Enter your age:  33\n"
     ]
    },
    {
     "name": "stdout",
     "output_type": "stream",
     "text": [
      "Adult\n"
     ]
    }
   ],
   "source": [
    "age = int (input(\"Enter your age: \"))\n",
    "agecate = AgeCate()"
   ]
  },
  {
   "cell_type": "code",
   "execution_count": 3,
   "id": "5757340c-35ed-4f73-b6cb-401a6c2d043c",
   "metadata": {},
   "outputs": [],
   "source": [
    "agecate"
   ]
  },
  {
   "cell_type": "code",
   "execution_count": 4,
   "id": "f5ad8c15-1a83-4c12-9ad2-b29f5338afc4",
   "metadata": {},
   "outputs": [
    {
     "name": "stdout",
     "output_type": "stream",
     "text": [
      "None\n"
     ]
    }
   ],
   "source": [
    "print(agecate)"
   ]
  },
  {
   "cell_type": "code",
   "execution_count": 5,
   "id": "63a9efdc-3723-4ff9-93e4-ce2f9fa17117",
   "metadata": {},
   "outputs": [],
   "source": [
    "def Sub(num1,num2):\n",
    "    sub = num1 - num2\n",
    "    return sub\n"
   ]
  },
  {
   "cell_type": "code",
   "execution_count": 7,
   "id": "67b3826c-cbc3-4547-b885-eafd50a36d89",
   "metadata": {},
   "outputs": [
    {
     "name": "stdin",
     "output_type": "stream",
     "text": [
      "enter num1:  23.33\n",
      "enter num1:  13\n"
     ]
    },
    {
     "data": {
      "text/plain": [
       "10.329999999999998"
      ]
     },
     "execution_count": 7,
     "metadata": {},
     "output_type": "execute_result"
    }
   ],
   "source": [
    "no1 = float(input(\"enter num1: \"))\n",
    "no2 = float(input(\"enter num1: \"))\n",
    "Sub(no1,no2)"
   ]
  },
  {
   "cell_type": "code",
   "execution_count": null,
   "id": "85c3b691-77c5-4705-b344-dc154ac93a60",
   "metadata": {},
   "outputs": [],
   "source": []
  }
 ],
 "metadata": {
  "kernelspec": {
   "display_name": "Python 3 (ipykernel)",
   "language": "python",
   "name": "python3"
  },
  "language_info": {
   "codemirror_mode": {
    "name": "ipython",
    "version": 3
   },
   "file_extension": ".py",
   "mimetype": "text/x-python",
   "name": "python",
   "nbconvert_exporter": "python",
   "pygments_lexer": "ipython3",
   "version": "3.12.7"
  }
 },
 "nbformat": 4,
 "nbformat_minor": 5
}
